{
 "cells": [
  {
   "cell_type": "code",
   "execution_count": 1,
   "id": "03f5f4ce",
   "metadata": {},
   "outputs": [],
   "source": [
    "import numpy as np\n",
    "import pandas as pd\n",
    "import matplotlib.pyplot as plt"
   ]
  },
  {
   "cell_type": "code",
   "execution_count": 2,
   "id": "8b845b4a",
   "metadata": {},
   "outputs": [],
   "source": [
    "from sklearn.datasets import make_blobs\n",
    "from sklearn.preprocessing import MinMaxScaler\n",
    "from sklearn.cluster import KMeans\n",
    "from pandas import DataFrame"
   ]
  },
  {
   "cell_type": "code",
   "execution_count": 3,
   "id": "c7fd4180",
   "metadata": {},
   "outputs": [],
   "source": [
    "n_features = 4\n",
    "n_cluster = 5\n",
    "cluster_std = 1.2\n",
    "n_samples = 250\n",
    "# generate fake data using make_blobs() function\n",
    "# fill in ...\n",
    "data = make_blobs(n_samples = 250, n_features = 4, cluster_std = 1.2, centers = 5)\n",
    "# shape should be (250, 4)"
   ]
  },
  {
   "cell_type": "code",
   "execution_count": 4,
   "id": "dfc2770b",
   "metadata": {},
   "outputs": [
    {
     "name": "stdout",
     "output_type": "stream",
     "text": [
      "Score for number of clusters 2: -47.2285794169171\n",
      "Score for number of clusters 3: -25.907430001099502\n",
      "Score for number of clusters 4: -11.2677263049139\n",
      "Score for number of clusters 5: -3.724028673704133\n",
      "Score for number of clusters 6: -3.516471916455708\n",
      "Score for number of clusters 7: -3.387490575699641\n",
      "Score for number of clusters 8: -3.1777171645654962\n",
      "Score for number of clusters 9: -3.0253880856935873\n",
      "Score for number of clusters 10: -2.909257321858667\n",
      "Score for number of clusters 11: -2.7521974463758347\n",
      "Score for number of clusters 12: -2.6286944012818663\n",
      "Score for number of clusters 13: -2.499792721300485\n",
      "Score for number of clusters 14: -2.4205559259569083\n"
     ]
    }
   ],
   "source": [
    "scaler = MinMaxScaler()\n",
    "X_scaled=scaler.fit_transform(data[0])\n",
    "y = data[1]\n",
    "scores= []\n",
    "for i in range(2,15):\n",
    "    # fit KMeans with X_scaled where the number of cluster is i and random_state is 0 \n",
    "    # finish code at ...\n",
    "    km = KMeans(n_clusters = i, random_state = None)\n",
    "    km.fit(X_scaled)\n",
    "    pred = km.predict(X_scaled)\n",
    "    \n",
    "    print(\"Score for number of clusters {}: {}\".format(i,km.score(X_scaled)))\n",
    "    scores.append(-km.score(X_scaled))\n",
    "    "
   ]
  },
  {
   "cell_type": "code",
   "execution_count": 9,
   "id": "6dcbd43b",
   "metadata": {},
   "outputs": [
    {
     "data": {
      "image/png": "[encoded data removed]",
      "text/plain": [
       "<Figure size 432x288 with 1 Axes>"
      ]
     },
     "metadata": {
      "needs_background": "light"
     },
     "output_type": "display_data"
    }
   ],
   "source": [
    "Nc = range(2,15)\n",
    "plt.plot(Nc, scores)\n",
    "plt.xlabel('km')\n",
    "plt.ylabel('scores')\n",
    "plt.title('Elbow Method For Optimal k')\n",
    "plt.show()"
   ]
  },
  {
   "cell_type": "code",
   "execution_count": null,
   "id": "01783126",
   "metadata": {},
   "outputs": [],
   "source": [
    "# The optimal cluster based on the graph falls on km = 5.\n",
    "# Number of features when increased, the number of clusters increases. If you keep everything constant and change the number of samples then the size of the cluster increases, which means more number of samples lie in the same cluster. This causes difficulty in identifying between two samples.\n",
    "# what part of the code could be optimized?\n",
    "#We can change and use another algorithm to find centroid in kmeans to optimize the code.\n"
   ]
  }
 ],
 "metadata": {
  "kernelspec": {
   "display_name": "Python 3",
   "language": "python",
   "name": "python3"
  },
  "language_info": {
   "codemirror_mode": {
    "name": "ipython",
    "version": 3
   },
   "file_extension": ".py",
   "mimetype": "text/x-python",
   "name": "python",
   "nbconvert_exporter": "python",
   "pygments_lexer": "ipython3",
   "version": "3.7.10"
  }
 },
 "nbformat": 4,
 "nbformat_minor": 5
}
